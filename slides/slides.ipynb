{
 "cells": [
  {
   "cell_type": "markdown",
   "metadata": {
    "slideshow": {
     "slide_type": "skip"
    }
   },
   "source": [
    "\n",
    "$\\newcommand{\\br}{\\mathbf{r}}$\n",
    "$\\newcommand{\\brr}{\\mathbf{r}}$\n",
    "$\\newcommand{\\bs}{\\mathbf{s}}$\n",
    "$\\newcommand{\\bss}{\\mathbf{s}}$"
   ]
  },
  {
   "cell_type": "code",
   "execution_count": 2,
   "metadata": {
    "slideshow": {
     "slide_type": "skip"
    }
   },
   "outputs": [
    {
     "data": {
      "text/html": [
       "<style>.container { width:80% !important; }</style>"
      ],
      "text/plain": [
       "<IPython.core.display.HTML object>"
      ]
     },
     "metadata": {},
     "output_type": "display_data"
    },
    {
     "data": {
      "text/html": [
       "<style>.container { width:80% !important; }</style>"
      ],
      "text/plain": [
       "<IPython.core.display.HTML object>"
      ]
     },
     "metadata": {},
     "output_type": "display_data"
    }
   ],
   "source": [
    "from IPython.core.display import display, HTML\n",
    "display(HTML(\"<style>.container { width:80% !important; }</style>\"))\n",
    "display(HTML(\"<style>.container { width:80% !important; }</style>\"))"
   ]
  },
  {
   "cell_type": "markdown",
   "metadata": {
    "slideshow": {
     "slide_type": "slide"
    }
   },
   "source": [
    "# Metadynamics Hands-on\n",
    "\n",
    "## Tricks from an old guys"
   ]
  },
  {
   "cell_type": "markdown",
   "metadata": {
    "slideshow": {
     "slide_type": "slide"
    }
   },
   "source": [
    "Metadynamics is, at this moment, the most popular enhanced (ES) sampling technique out -there.\n",
    "\n",
    "What is an ES technique?\n",
    "\n",
    "\\begin{equation}\n",
    "    <O> = \\frac{\\int\\ d\\br \\ O(\\br)\\ e^{-\\beta U(\\br)}}{\\int\\ d\\br\\ e^{-\\beta U(\\br)}}\n",
    "\\end{equation}"
   ]
  },
  {
   "cell_type": "markdown",
   "metadata": {
    "slideshow": {
     "slide_type": "fragment"
    }
   },
   "source": [
    "<center><img src='figures/high_fes.png'  style=\"width:50%\"></center>\n"
   ]
  },
  {
   "cell_type": "markdown",
   "metadata": {
    "slideshow": {
     "slide_type": "slide"
    }
   },
   "source": [
    "Let's help our simulation a little bit!"
   ]
  },
  {
   "cell_type": "markdown",
   "metadata": {
    "slideshow": {
     "slide_type": "fragment"
    }
   },
   "source": [
    "\\begin{equation}\n",
    "H(\\br) = U(\\br) + V(s,t) = U(\\br) + h \\sum_{t' = 0}^{T} g(s-s(t')) e^{- V(s,t')\\frac{\\gamma}{\\gamma-1}}\\\\\n",
    "\\lim_{t \\to \\infty} F(s) = - \\frac{\\gamma}{\\gamma-1}V(s,t)\n",
    "\\end{equation}\n"
   ]
  },
  {
   "cell_type": "markdown",
   "metadata": {
    "slideshow": {
     "slide_type": "fragment"
    }
   },
   "source": [
    "<center><img src='figures/meta_working.png'  style=\"width:50%\"></center>"
   ]
  },
  {
   "cell_type": "markdown",
   "metadata": {
    "slideshow": {
     "slide_type": "slide"
    }
   },
   "source": [
    "### Easy with PLUMED-2.0"
   ]
  },
  {
   "cell_type": "markdown",
   "metadata": {
    "slideshow": {
     "slide_type": "fragment"
    }
   },
   "source": [
    "First thing off, be sure that PLUMED can find the correct libraries with \n",
    "```bash\n",
    "$ source /pat/to/plumed/sourceme.sh\n",
    "```\n",
    "\n",
    "Then lets look at the plumed.dat file that contains all the information about the biasing method we will use:"
   ]
  },
  {
   "cell_type": "markdown",
   "metadata": {
    "slideshow": {
     "slide_type": "fragment"
    }
   },
   "source": [
    "```bash\n",
    "# reduced units\n",
    "UNITS NATURAL\n",
    "# this line define the CV (s)\n",
    "d1: DISTANCE ATOMS=1,2 COMPONENTS\n",
    "# This lines are usually not present in a standard simulations. Here they represent the PES that we will sample\n",
    "# since is a toy model\n",
    "ff: MATHEVAL ARG=d1.x VAR=x0 PERIODIC=NO FUNC=x0^2*((1.05*x0-1)*(x0+1))*200\n",
    "bb: BIASVALUE ARG=ff\n",
    "\n",
    "# This define the metadynamics calculation\n",
    "mt: METAD ...\n",
    "ARG=d1.x\n",
    "HEIGHT=0.5 SIGMA=0.05 BIASFACTOR=30\n",
    "TEMP=1.0\n",
    "GRID_MIN=-1.5 GRID_MAX=1.5 GRID_BIN=400\n",
    "PACE=500\n",
    "...\n",
    "\n",
    "# print the value of the CV to a file, as well as the bias of the Metadynamics\n",
    "PRINT ARG=d1.x,mt.bias FILE=colvar STRIDE=500\n",
    "```"
   ]
  },
  {
   "cell_type": "markdown",
   "metadata": {
    "slideshow": {
     "slide_type": "subslide"
    }
   },
   "source": [
    "For the simple toy systems we will use, PLUMED will be the molecular dynamics engine AND the Metadynamics plugin. To run a MD we use the ```pesmd``` command\n",
    "```bash\n",
    "plumed pesmd < input\n",
    "```\n",
    "which contains the information about the MD calculation\n",
    "\n",
    "```markdown\n",
    "temperature 1\n",
    "tstep 0.0005\n",
    "friction 1\n",
    "dimension 1 \n",
    "nstep 4000000\n",
    "ipos 0.75\n",
    "periodic false\n",
    "plumed plumed.dat\n",
    "\n",
    "```"
   ]
  },
  {
   "cell_type": "markdown",
   "metadata": {
    "slideshow": {
     "slide_type": "fragment"
    }
   },
   "source": [
    "OK Lets run the mono-dimensional example! "
   ]
  },
  {
   "cell_type": "markdown",
   "metadata": {
    "slideshow": {
     "slide_type": "subslide"
    }
   },
   "source": [
    "**After the calculations please take a moment to plot:**\n",
    " 1. The CV as a function of time (2nd col of HILLS of colvar file)\n",
    " 2. The bias as a function of time (3rd col of colvar)\n",
    " 3. The height of the gaussian repulsive functions (HILLS 4th col)\n",
    " 4. How much bias you deposited along the CV (colvar col 3 vs col 2)"
   ]
  },
  {
   "cell_type": "markdown",
   "metadata": {
    "slideshow": {
     "slide_type": "fragment"
    }
   },
   "source": [
    "Once that the calculation is finished, reconstruct the final FES with \n",
    "\n",
    "```bash\n",
    "plumed sum_hills --hills HILLS --mintozero --bin 200 --kt 1.0 --negbias\n",
    "```\n",
    "\n",
    "and check the profile of the FES\n",
    "\n",
    "```bash\n",
    "python ../../scripts/compare_results_reference.py --fes negativebias.dat\n",
    "```\n",
    "\n",
    "or \n",
    "\n",
    "```bash\n",
    "python ../../scripts/compare_results_reference.py --fes negativebias.dat --ref reference/reference_fes.dat\n",
    "```\n"
   ]
  },
  {
   "cell_type": "markdown",
   "metadata": {
    "slideshow": {
     "slide_type": "slide"
    }
   },
   "source": [
    "### What about Free Energy Differences?"
   ]
  },
  {
   "cell_type": "markdown",
   "metadata": {
    "slideshow": {
     "slide_type": "fragment"
    }
   },
   "source": [
    "Calculating $\\Delta G$ is easy with plumed, and a python script! First, create MANY fes, with a desired stride\n",
    "\n",
    "```bash\n",
    "plumed sum_hills --hills HILLS --mintozero --bin 200 --kt 1.0 --negbias --stride 100\n",
    "```\n",
    "\n",
    "This will generate many negativebias_XX.dat files. After this, use the script\n",
    "\n",
    "```bash\n",
    "python ../../scripts/calculate_fes_difference.py --prefix negativebias --mina -1 -0.5 --minb 0.5 1 --kt 1.0\n",
    "```"
   ]
  },
  {
   "cell_type": "markdown",
   "metadata": {
    "slideshow": {
     "slide_type": "fragment"
    }
   },
   "source": [
    "In practice, this is done by selecting two parts of the phase space $a$ and $b$, and evaluating the probability rather than the FES. So using directly the PLUMED negativebias_XX.dat results:\n",
    "\n",
    "\\begin{equation}\n",
    "P_a(t) = \\int_{a-\\delta}^{a+\\delta}e^{-G(s,t)/kT} ds \\\\\n",
    "P_b(t) = \\int_{b-\\delta}^{b+\\delta}e^{-G(s,t)/kT} ds\n",
    "\\end{equation}\n",
    "and then \n",
    "\n",
    "\\begin{equation}\n",
    "\\Delta G_{ab}(t) = -kT \\log \\frac{P_a(t)}{P_b(t)}\n",
    "\\end{equation}\n"
   ]
  },
  {
   "cell_type": "markdown",
   "metadata": {
    "slideshow": {
     "slide_type": "fragment"
    }
   },
   "source": [
    "Using a single point as reference, is \n",
    "1. Incorrect, since there is a probability field, not \"a structure\"\n",
    "2. Noisy, because as you decrease $\\delta \\to 0$ you get less and less statistics"
   ]
  },
  {
   "cell_type": "markdown",
   "metadata": {
    "slideshow": {
     "slide_type": "slide"
    }
   },
   "source": [
    "### Thanks Fede, I will go do FES!"
   ]
  },
  {
   "cell_type": "markdown",
   "metadata": {
    "slideshow": {
     "slide_type": "fragment"
    }
   },
   "source": [
    "Or damages, most likely, because you are just grasping it atm.\n",
    "\n",
    "<center><img src='figures/dunning-kruger.jpg'  style=\"width:50%\"></center>\n"
   ]
  },
  {
   "cell_type": "markdown",
   "metadata": {
    "slideshow": {
     "slide_type": "fragment"
    }
   },
   "source": [
    "Let's redo everything with a slightly different change with mono-dimensional-bad-behaving"
   ]
  },
  {
   "cell_type": "markdown",
   "metadata": {
    "slideshow": {
     "slide_type": "subslide"
    }
   },
   "source": [
    "### It's wrong! What is off!??\n"
   ]
  },
  {
   "cell_type": "markdown",
   "metadata": {
    "slideshow": {
     "slide_type": "fragment"
    }
   },
   "source": [
    "Yes of course you should simulate more, but how much?\n",
    "\n",
    "Let's start by checking what the bias and the gaussians as a function of the $s$ variable are doing!"
   ]
  },
  {
   "cell_type": "markdown",
   "metadata": {
    "slideshow": {
     "slide_type": "fragment"
    }
   },
   "source": [
    "**A simulation is converged, once the height of the repulsive gaussian is 0, EVERYWHERE**\n",
    "\n",
    "Sing something is off,\n",
    "**sometimes the convergence is drifting a bit.** Check the convergence as a function of time"
   ]
  },
  {
   "cell_type": "markdown",
   "metadata": {
    "slideshow": {
     "slide_type": "slide"
    }
   },
   "source": [
    "### Ok fine I got it! Thanks\n"
   ]
  },
  {
   "cell_type": "markdown",
   "metadata": {
    "slideshow": {
     "slide_type": "fragment"
    }
   },
   "source": [
    "Yhea, but we have not finished yet.\n",
    "\n",
    "Try the bi-dimensiona-mono-cv:\n",
    "Run the calculations, check the height, recover the FES and compare with the *proj_y* fes in reference"
   ]
  },
  {
   "cell_type": "markdown",
   "metadata": {
    "slideshow": {
     "slide_type": "fragment"
    }
   },
   "source": [
    "Surprise! The height behave in a good way, but he FES does not!!!!!\n",
    "WHY?"
   ]
  },
  {
   "cell_type": "markdown",
   "metadata": {
    "slideshow": {
     "slide_type": "fragment"
    }
   },
   "source": [
    "because we  neglecting a degrees of freedom\n",
    "\n",
    "Let's see what happened if we include both of them, by doing the calculation with **bi-dimensional**"
   ]
  },
  {
   "cell_type": "markdown",
   "metadata": {
    "slideshow": {
     "slide_type": "slide"
    }
   },
   "source": [
    "### Metadynamics in 2D\n",
    "\n",
    "With 2D, the things get slightly more complex\n",
    "\n",
    "Since we have two CVs, now the plumed file looks like\n",
    "\n",
    "```markdown\n",
    "mt: METAD ...\n",
    "ARG=d1.x,d1.y\n",
    "HEIGHT=1.0 SIGMA=0.05,0.05 BIASFACTOR=15\n",
    "TEMP=1.0\n",
    "GRID_MIN=-1.8,-1.8 GRID_MAX=1.8,1.8 GRID_BIN=400,400\n",
    "PACE=500\n",
    "...\n",
    "\n",
    "PRINT ARG=d1.x,d1.y,mt.bias FILE=colvar STRIDE=500\n",
    "```\n",
    "\n",
    "notice that now we have two arguments, one per CV, two Sigmas, and two parameters per grid input parameter, since we now have a 2D grid"
   ]
  },
  {
   "cell_type": "markdown",
   "metadata": {
    "slideshow": {
     "slide_type": "fragment"
    }
   },
   "source": [
    "of course, if you want to recover the FES you need to explain to sum_hills that there is a 2D grid\n",
    "\n",
    "```bash\n",
    " plumed sum_hills --hills HILLS --kt 1.0 --negbias --bin 200,200 --mintozero\n",
    " ```"
   ]
  },
  {
   "cell_type": "markdown",
   "metadata": {
    "slideshow": {
     "slide_type": "subslide"
    }
   },
   "source": [
    "###  Can I recover  1D FES with sum_hills?"
   ]
  },
  {
   "cell_type": "markdown",
   "metadata": {
    "slideshow": {
     "slide_type": "fragment"
    }
   },
   "source": [
    "sure,  you can just integrate the extra dimension out\n",
    "```bash\n",
    " plumed sum_hills --hills HILLS --kt 1.0 --negbias --bin 200,200 --mintozero --idw d1.x\n",
    " ```\n",
    " \n",
    " And the result will be only the fes along the CV named d1.x\n",
    " \n",
    " Check if the mono dimensional CV converged, and check the 2D FES as well."
   ]
  },
  {
   "cell_type": "markdown",
   "metadata": {
    "slideshow": {
     "slide_type": "fragment"
    }
   },
   "source": [
    "If you want to evaluate the $\\Delta G$ then you need to specify 2 extra boundaries per minimum, of course! You can do this with \n",
    "\n",
    "```bash\n",
    "python ../../scripts/calculate_fes_difference.py --prefix negativebias --mina -1.5 0.5 -1.5 -0.5 --minb 0.5 1.5 -0.5 1.5 --kt 1.0\n",
    "```"
   ]
  },
  {
   "cell_type": "markdown",
   "metadata": {
    "slideshow": {
     "slide_type": "slide"
    }
   },
   "source": [
    "###  And to finish the worst case scenario!"
   ]
  },
  {
   "cell_type": "markdown",
   "metadata": {
    "slideshow": {
     "slide_type": "fragment"
    }
   },
   "source": [
    "What is worst to have a neglected CV?\n",
    "To have a neglected CV with a twist!\n",
    "\n",
    "Try to check **zeta-potential-mono** and **zeta-potential** and recover the 2D as well as the 1D FES."
   ]
  },
  {
   "cell_type": "markdown",
   "metadata": {
    "slideshow": {
     "slide_type": "slide"
    }
   },
   "source": [
    "###  Can we obtain information on other CVs or degrees of freedom?\n",
    "\n",
    "It is possible to recover information on other CVs or degrees of freedom!\n",
    "We can evaluate what would be the weight of each configuration sampled in our Metadynamics calculations by reweigthing, so to recover the Boltzmann weight that the coonfiguation would have in an unbiased MD run."
   ]
  },
  {
   "cell_type": "markdown",
   "metadata": {
    "slideshow": {
     "slide_type": "fragment"
    }
   },
   "source": [
    "\\begin{equation}\n",
    "    \\hat{P}(\\br,t) = P(\\br)\\ e^{-\\beta [V(\\bs(\\br),t) - c(t)]}, \n",
    "\\end{equation}\n",
    "in which \n",
    "\\begin{equation}\n",
    " e^{-\\beta c(t)} = \\frac{\\int\\ d \\bs\\ P(\\bs)\\ e^{-\\beta V(\\bs,t)}}{\\int d \\bs\\ P(\\bs)},\n",
    "\\end{equation}\n",
    "\n",
    "the unbiased probability can thus be obtained, starting from the biased one using\n",
    "\\begin{equation}\n",
    "    \\hat{P}(\\br) = \\int_0^T \\ dt \\ e^{\\beta [V(\\bs,t) - c(t)]} \\delta(s-s(t)), \n",
    "\\end{equation}"
   ]
  },
  {
   "cell_type": "markdown",
   "metadata": {
    "slideshow": {
     "slide_type": "subslide"
    }
   },
   "source": [
    "We can evaluate the renormalization constant c(t) by using\n",
    "\n",
    "\\begin{equation}\n",
    "    e^{-\\beta c(t)} = \\frac{\\int_0^t dt'\\ e^{\\beta[V(\\bs(t'),t')-c(t')-V(\\bs(t'),t)]}}{\\int_0^t dt'\\ e^{\\beta [V(\\bs(t'),t')-c(t')]}}.\n",
    "\\label{eq:time_c_t}\n",
    "\\end{equation}\n",
    "\n",
    "A python module that implement this schema is available in cosmo-tools in python module named as ITRE\n",
    "https://github.com/cosmo-epfl/cosmo-tools.git\n",
    "\n",
    "Check the examples folder for more complex task. For now, we will reweight the 2D calculations that we have!"
   ]
  },
  {
   "cell_type": "markdown",
   "metadata": {
    "slideshow": {
     "slide_type": "fragment"
    }
   },
   "source": [
    "When you use ITRE there are a few things you need to know:\n",
    "1. You can use a stride in the calculation so that you do not need to calculate c(t) every time Usually 10--50 is ok \n",
    "2. You need the instantaneous potential, and is better to use directly the one used from PLUMED. HOWEVER the ITRE recalculated potential and the PLUMED potential should be the same! CHECK THAT!\n",
    "3. The weights that you calculate, and hence c(t), need to be aligned with your trajectory! so pay attention! They should start at the same time and have the same stride!\n",
    "4. PLUMED does not exactly print the HEIGHT of the gaussin when you do Well Tempered, but rather an estimate of the FES. So you need to correct it! Is easy you can just normalize the whole heights and then multiply for the heights you set at the beginning."
   ]
  },
  {
   "cell_type": "code",
   "execution_count": null,
   "metadata": {},
   "outputs": [],
   "source": []
  }
 ],
 "metadata": {
  "celltoolbar": "Slideshow",
  "kernelspec": {
   "display_name": "Python 3",
   "language": "python",
   "name": "python3"
  },
  "language_info": {
   "codemirror_mode": {
    "name": "ipython",
    "version": 3
   },
   "file_extension": ".py",
   "mimetype": "text/x-python",
   "name": "python",
   "nbconvert_exporter": "python",
   "pygments_lexer": "ipython3",
   "version": "3.6.9"
  }
 },
 "nbformat": 4,
 "nbformat_minor": 4
}
