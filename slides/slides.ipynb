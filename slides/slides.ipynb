{
 "cells": [
  {
   "cell_type": "markdown",
   "metadata": {
    "slideshow": {
     "slide_type": "skip"
    }
   },
   "source": [
    "\n",
    "$\\newcommand{\\br}{\\mathbf{r}}$\n",
    "$\\newcommand{\\brr}{\\mathbf{r}}$\n",
    "$\\newcommand{\\bs}{\\mathbf{s}}$\n",
    "$\\newcommand{\\bss}{\\mathbf{s}}$"
   ]
  },
  {
   "cell_type": "code",
   "execution_count": 1,
   "metadata": {
    "slideshow": {
     "slide_type": "skip"
    }
   },
   "outputs": [
    {
     "data": {
      "text/html": [
       "<style>.container { width:80% !important; }</style>"
      ],
      "text/plain": [
       "<IPython.core.display.HTML object>"
      ]
     },
     "metadata": {},
     "output_type": "display_data"
    },
    {
     "data": {
      "text/html": [
       "<style>.container { width:80% !important; }</style>"
      ],
      "text/plain": [
       "<IPython.core.display.HTML object>"
      ]
     },
     "metadata": {},
     "output_type": "display_data"
    }
   ],
   "source": [
    "from IPython.core.display import display, HTML\n",
    "display(HTML(\"<style>.container { width:80% !important; }</style>\"))\n",
    "display(HTML(\"<style>.container { width:80% !important; }</style>\"))"
   ]
  },
  {
   "cell_type": "markdown",
   "metadata": {
    "slideshow": {
     "slide_type": "slide"
    }
   },
   "source": [
    "# Metadynamics Hands-on\n",
    "\n",
    "## Tricks from an old guys"
   ]
  },
  {
   "cell_type": "markdown",
   "metadata": {
    "slideshow": {
     "slide_type": "slide"
    }
   },
   "source": [
    "Metadynamics is, at this moment, the most popular enhanced (ES) sampling technique out -there.\n",
    "\n",
    "What is an ES technique?\n",
    "\n",
    "\\begin{equation}\n",
    "    <O> = \\frac{\\int\\ d\\br \\ O(\\br)\\ e^{-\\beta U(\\br)}}{\\int\\ d\\br\\ e^{-\\beta U(\\br)}}\n",
    "\\end{equation}\n",
    "    \n",
    "which in a MD or MC calculations is approximated by \n",
    "    \n",
    "\\begin{equation}\n",
    "    <O> = \\frac{1}{T}\\int_0^T O(t) dt\n",
    "\\end{equation}\n"
   ]
  },
  {
   "cell_type": "markdown",
   "metadata": {
    "slideshow": {
     "slide_type": "fragment"
    }
   },
   "source": [
    "<center><img src='figures/high_fes.png'  style=\"width:40%\"></center>\n"
   ]
  },
  {
   "cell_type": "markdown",
   "metadata": {
    "slideshow": {
     "slide_type": "subslide"
    }
   },
   "source": [
    "Let's help our simulation a little bit with regular Meta:\n",
    "\\begin{equation}\n",
    "H(\\br) = U(\\br) + V(s,t) = U(\\br) + h \\sum_{t' = 0}^{T} g(s-s(t')) \\\\\n",
    "\\lim_{t \\to \\infty} F(s) \\approx - V(s,t)\n",
    "\\end{equation}\n"
   ]
  },
  {
   "cell_type": "markdown",
   "metadata": {
    "slideshow": {
     "slide_type": "fragment"
    }
   },
   "source": [
    "better, with the Well-Tempered version!:\n",
    "\\begin{equation}\n",
    "H(\\br) = U(\\br) + V(s,t) = U(\\br) + h \\sum_{t' = 0}^{T} g(s-s(t')) \\exp{\\left(- V(s,t')\\frac{\\gamma}{\\gamma-1}\\right)}\\\\\n",
    "\\lim_{t \\to \\infty} F(s) = - \\frac{\\gamma}{\\gamma-1}V(s,t)\n",
    "\\end{equation}\n"
   ]
  },
  {
   "cell_type": "markdown",
   "metadata": {
    "slideshow": {
     "slide_type": "subslide"
    }
   },
   "source": [
    "<center><img src='figures/meta_working.png'  style=\"width:40%\"></center>\n",
    "\n",
    "The action of the external potential is to fill deep energy minimum, push you over boundaries (barriers) and explore new minima. At the end of the calculations the potential tends to flatten out, and you can recover the original FES."
   ]
  },
  {
   "cell_type": "markdown",
   "metadata": {
    "slideshow": {
     "slide_type": "fragment"
    }
   },
   "source": [
    "sounds interesting! ...\n",
    "\n",
    "What is **s** though?"
   ]
  },
  {
   "cell_type": "markdown",
   "metadata": {
    "slideshow": {
     "slide_type": "slide"
    }
   },
   "source": [
    "###  CVs, what are they?"
   ]
  },
  {
   "cell_type": "markdown",
   "metadata": {
    "slideshow": {
     "slide_type": "fragment"
    }
   },
   "source": [
    "A CV **s** is a function of the microscopic coordinate of your system **s** =  f(**R**). \n",
    "Some simple examples are distances between atoms, angles such as those find in polypeptides.\n",
    "\n",
    "\\begin{equation}\n",
    "d_{ab} = \\sqrt{(\\mathbf{R_a}-\\mathbf{R_b})^2}\n",
    "\\end{equation}\n"
   ]
  },
  {
   "cell_type": "markdown",
   "metadata": {
    "slideshow": {
     "slide_type": "fragment"
    }
   },
   "source": [
    "Some more complex CVs are coordination number\n",
    "\n",
    "\\begin{equation}\n",
    "c_a = \\sum^N_b w(d_{ab}), \\ \\ w[0,1]\n",
    "\\end{equation}\n",
    "\n",
    "$w$ is an activation function, similar to those used in Neural Network or in SOAP to switch the contribution. "
   ]
  },
  {
   "cell_type": "markdown",
   "metadata": {
    "slideshow": {
     "slide_type": "fragment"
    }
   },
   "source": [
    "PLUMED-2 can leverage C++ objects oriented programming, and create arbitrary complex CVs. For example, the number of atom coordinated by 3 other atoms can be calculated as:\n",
    "\n",
    "\\begin{equation}\n",
    "n_3 = \\sum^N_b \\exp{\\left(-\\frac{(c_a-3)^2}{\\sigma^2}\\right)}\n",
    "\\end{equation}\n"
   ]
  },
  {
   "cell_type": "markdown",
   "metadata": {
    "slideshow": {
     "slide_type": "subslide"
    }
   },
   "source": [
    "Choosing a CV is more art than science, but there are two things you should remember:\n",
    "\n",
    "1. CVs should IDENTIFYING the metastable states that we are interested in \n",
    "2. CVs should ISOLATE the metastable states that we are interested in \n",
    "\n"
   ]
  },
  {
   "cell_type": "markdown",
   "metadata": {
    "slideshow": {
     "slide_type": "fragment"
    }
   },
   "source": [
    "Usually, the CVs that are chosen are the slowest (i.e. those that have the slowest dynamics). It make sense to bias them, because it is harder to observe a transition in those CVs during a MD."
   ]
  },
  {
   "cell_type": "markdown",
   "metadata": {
    "slideshow": {
     "slide_type": "fragment"
    }
   },
   "source": [
    "CVs that tends to work pretty well are distances, angles and dihedrals. This is becase there is a 1-to-1 correspondance is easy to achieve!"
   ]
  },
  {
   "cell_type": "markdown",
   "metadata": {
    "slideshow": {
     "slide_type": "fragment"
    }
   },
   "source": [
    "CVs that are powerful but harder to use and potentially problematic are those that are based or linear or non-linear combination of other CVs."
   ]
  },
  {
   "cell_type": "markdown",
   "metadata": {
    "slideshow": {
     "slide_type": "fragment"
    }
   },
   "source": [
    "How do you set up a calculations?"
   ]
  },
  {
   "cell_type": "markdown",
   "metadata": {
    "slideshow": {
     "slide_type": "slide"
    }
   },
   "source": [
    "### Easy with PLUMED-2.0"
   ]
  },
  {
   "cell_type": "markdown",
   "metadata": {
    "slideshow": {
     "slide_type": "fragment"
    }
   },
   "source": [
    "Plumed is an open-source software that can be patched to many MD code such as GROMACS, LAMMPS etc..\n",
    "It is relatively easy to download it and install it, and there is a large community so you can easy find answer for the question you have"
   ]
  },
  {
   "cell_type": "markdown",
   "metadata": {
    "slideshow": {
     "slide_type": "fragment"
    }
   },
   "source": [
    "After the installation,  be sure that PLUMED can find the correct libraries with \n",
    "```bash\n",
    "$ source /path/to/plumed/sourceme.sh\n",
    "```\n",
    "\n",
    "PLUMED then require a file with instruction on what to do during the calculation"
   ]
  },
  {
   "cell_type": "markdown",
   "metadata": {
    "slideshow": {
     "slide_type": "fragment"
    }
   },
   "source": [
    "```bash\n",
    "# reduced units\n",
    "UNITS NATURAL\n",
    "# this line define the CV (s)\n",
    "d1: DISTANCE ATOMS=1,2 COMPONENTS\n",
    "# This lines are usually not present in a standard simulations. Here they represent the PES that we will sample\n",
    "# since is a toy model\n",
    "ff: MATHEVAL ARG=d1.x VAR=x0 PERIODIC=NO FUNC=x0^2*((1.05*x0-1)*(x0+1))*200\n",
    "bb: BIASVALUE ARG=ff\n",
    "\n",
    "# This define the metadynamics calculation\n",
    "mt: METAD ...\n",
    "ARG=d1.x\n",
    "HEIGHT=0.5 SIGMA=0.05 BIASFACTOR=30\n",
    "TEMP=1.0\n",
    "GRID_MIN=-1.5 GRID_MAX=1.5 GRID_BIN=400\n",
    "PACE=500\n",
    "...\n",
    "\n",
    "# print the value of the CV to a file, as well as the bias of the Metadynamics\n",
    "PRINT ARG=d1.x,mt.bias FILE=colvar STRIDE=500\n",
    "```"
   ]
  },
  {
   "cell_type": "markdown",
   "metadata": {
    "slideshow": {
     "slide_type": "subslide"
    }
   },
   "source": [
    "For the simple toy systems we will use, PLUMED will be the molecular dynamics engine AND the Metadynamics plugin. To run a MD we use the ```pesmd``` command\n",
    "```bash\n",
    "plumed pesmd < input\n",
    "```\n",
    "which contains the information about the MD calculation\n",
    "\n",
    "```markdown\n",
    "temperature 1\n",
    "tstep 0.0005\n",
    "friction 1\n",
    "dimension 1 \n",
    "nstep 4000000\n",
    "ipos 0.75\n",
    "periodic false\n",
    "plumed plumed.dat\n",
    "\n",
    "```"
   ]
  },
  {
   "cell_type": "markdown",
   "metadata": {
    "slideshow": {
     "slide_type": "fragment"
    }
   },
   "source": [
    "Ok, lets run:\n",
    "1. An unbiased calculation to check if we are in the situation where we need to use ES\n",
    "2. A biased calculation to recover the FES"
   ]
  },
  {
   "cell_type": "markdown",
   "metadata": {
    "slideshow": {
     "slide_type": "subslide"
    }
   },
   "source": [
    "**After the calculations please take a moment to plot:**\n",
    " 1. The CV as a function of time (2nd col of HILLS of colvar file)\n",
    " 2. The bias as a function of time (3rd col of colvar)\n",
    " 3. The height of the gaussian repulsive functions (HILLS 4th col)\n",
    " 4. How much bias you deposited along the CV (colvar col 3 vs col 2)"
   ]
  },
  {
   "cell_type": "markdown",
   "metadata": {
    "slideshow": {
     "slide_type": "fragment"
    }
   },
   "source": [
    "Once that the calculation is finished, reconstruct the final FES with \n",
    "\n",
    "```bash\n",
    "plumed sum_hills --hills HILLS --mintozero --bin 200 --kt 1.0 --negbias\n",
    "```\n",
    "\n",
    "and check the profile of the FES\n",
    "\n",
    "```bash\n",
    "python ../../scripts/compare_results_reference.py --fes negativebias.dat\n",
    "```\n",
    "\n",
    "or \n",
    "\n",
    "```bash\n",
    "python ../../scripts/compare_results_reference.py --fes negativebias.dat --ref reference/reference_fes.dat\n",
    "```\n"
   ]
  },
  {
   "cell_type": "markdown",
   "metadata": {
    "slideshow": {
     "slide_type": "slide"
    }
   },
   "source": [
    "### What about Free Energy Differences?"
   ]
  },
  {
   "cell_type": "markdown",
   "metadata": {
    "slideshow": {
     "slide_type": "fragment"
    }
   },
   "source": [
    "Free Energy Differences ($\\Delta G$) are way more interesting to experimentalists than the FES. \n",
    "They are also good to estimate if our calculations converged or not, but for this we need to evaluate them as a function of time."
   ]
  },
  {
   "cell_type": "markdown",
   "metadata": {
    "slideshow": {
     "slide_type": "fragment"
    }
   },
   "source": [
    "Calculating $\\Delta G$ is easy with plumed, and a python script! First, create MANY fes, with a desired stride\n",
    "\n",
    "```bash\n",
    "plumed sum_hills --hills HILLS --mintozero --bin 200 --kt 1.0 --negbias --stride 100\n",
    "```\n",
    "\n",
    "This will generate many negativebias_XX.dat files. After this, use the script\n",
    "\n",
    "```bash\n",
    "python ../../scripts/calculate_fes_difference.py --prefix negativebias --mina -1 -0.5 --minb 0.5 1 --kt 1.0\n",
    "```"
   ]
  },
  {
   "cell_type": "markdown",
   "metadata": {
    "slideshow": {
     "slide_type": "fragment"
    }
   },
   "source": [
    "In practice, this is done by selecting two parts of the phase space $a$ and $b$, and evaluating the probability rather than the FES. So using directly the PLUMED negativebias_XX.dat results:\n",
    "\n",
    "\\begin{equation}\n",
    "P_a(t) = \\int_{a-\\delta}^{a+\\delta}e^{-G(s,t)/kT} ds \\\\\n",
    "P_b(t) = \\int_{b-\\delta}^{b+\\delta}e^{-G(s,t)/kT} ds\n",
    "\\end{equation}\n",
    "and then \n",
    "\n",
    "\\begin{equation}\n",
    "\\Delta G_{ab}(t) = -kT \\log \\frac{P_a(t)}{P_b(t)}\n",
    "\\end{equation}\n"
   ]
  },
  {
   "cell_type": "markdown",
   "metadata": {
    "slideshow": {
     "slide_type": "fragment"
    }
   },
   "source": [
    "Using a single point as reference, is \n",
    "1. Incorrect, since there is a probability field, not \"a structure\"\n",
    "2. Noisy, because as you decrease $\\delta \\to 0$ you get less and less statistics"
   ]
  },
  {
   "cell_type": "markdown",
   "metadata": {
    "slideshow": {
     "slide_type": "slide"
    }
   },
   "source": [
    "### Thanks Fede, I will go do FES!"
   ]
  },
  {
   "cell_type": "markdown",
   "metadata": {
    "slideshow": {
     "slide_type": "fragment"
    }
   },
   "source": [
    "Or damages, most likely, because you are just grasping it atm.\n",
    "\n",
    "<center><img src='figures/dunning-kruger.jpg'  style=\"width:50%\"></center>\n"
   ]
  },
  {
   "cell_type": "markdown",
   "metadata": {
    "slideshow": {
     "slide_type": "fragment"
    }
   },
   "source": [
    "Let's redo everything with a slightly different change with **mono-dimensional-bad-behaving**.\n",
    "**Mono-dimensional-bad-behaving**, has basically the same FES of **mono-dimensional**, but the difference in FES between $a$ and $b$ is slightly larger"
   ]
  },
  {
   "cell_type": "markdown",
   "metadata": {
    "slideshow": {
     "slide_type": "subslide"
    }
   },
   "source": [
    "Run the calculation, then check the FES and $\\Delta G(t)$. Consider if the simulation is converged.\n",
    "\n",
    "THEN\n",
    "\n",
    "compare with the reference"
   ]
  },
  {
   "cell_type": "markdown",
   "metadata": {
    "slideshow": {
     "slide_type": "fragment"
    }
   },
   "source": [
    "### It's wrong! What is off!??\n"
   ]
  },
  {
   "cell_type": "markdown",
   "metadata": {
    "slideshow": {
     "slide_type": "fragment"
    }
   },
   "source": [
    "Yes of course you should simulate more, but how much?\n",
    "\n",
    "Let's start by checking what the bias and the height of the gaussians as a function of the $s$ variable are doing! \n",
    "\n",
    "(colvar 3rd vs 2nd columns and HILLS 4th vs 2nd columns)"
   ]
  },
  {
   "cell_type": "markdown",
   "metadata": {
    "slideshow": {
     "slide_type": "fragment"
    }
   },
   "source": [
    "**A simulation is converged, once the height of the repulsive gaussian is 0, EVERYWHERE**\n",
    "\n",
    "Sign that something is off,\n",
    "**sometimes the convergence is drifting a bit.** Check the convergence as a function of time"
   ]
  },
  {
   "cell_type": "markdown",
   "metadata": {
    "slideshow": {
     "slide_type": "slide"
    }
   },
   "source": [
    "### Ok fine I got it! Thanks\n"
   ]
  },
  {
   "cell_type": "markdown",
   "metadata": {
    "slideshow": {
     "slide_type": "fragment"
    }
   },
   "source": [
    "Yhea, but we have not finished yet.\n",
    "\n",
    "Try the **bi-dimensiona-mono-cv**:\n",
    "\n",
    "As you may have guessed, this system is a 2D systems but we are going to bias only 1 CV for the moment!\n",
    "\n",
    "Calculate the FES $\\Delta G(t)$, as well as the HILLS heights and bias as a function of $s$\n",
    "\n",
    "THEN\n",
    "\n",
    "Compare with the *proj_y* fes in the reference folder."
   ]
  },
  {
   "cell_type": "markdown",
   "metadata": {
    "slideshow": {
     "slide_type": "fragment"
    }
   },
   "source": [
    "Surprise! The height behave in a good way, but he FES does not!!!!!\n",
    "WHY?"
   ]
  },
  {
   "cell_type": "markdown",
   "metadata": {
    "slideshow": {
     "slide_type": "fragment"
    }
   },
   "source": [
    "because we  neglecting a **degrees of freedom**, that has an important role in the transition between the two minima!"
   ]
  },
  {
   "cell_type": "markdown",
   "metadata": {
    "slideshow": {
     "slide_type": "fragment"
    }
   },
   "source": [
    "There is a way for checking about neglected CVs, but I will discuss it later as last argument!\n",
    "For now, lets do a **2D WT META** calculations"
   ]
  },
  {
   "cell_type": "markdown",
   "metadata": {
    "slideshow": {
     "slide_type": "slide"
    }
   },
   "source": [
    "### Metadynamics in 2D\n",
    "\n",
    "With 2D, the things get slightly more complex\n",
    "\n",
    "Since we have two CVs, now the plumed file looks like\n",
    "\n",
    "```markdown\n",
    "mt: METAD ...\n",
    "ARG=d1.x,d1.y\n",
    "HEIGHT=1.0 SIGMA=0.05,0.05 BIASFACTOR=15\n",
    "TEMP=1.0\n",
    "GRID_MIN=-1.8,-1.8 GRID_MAX=1.8,1.8 GRID_BIN=400,400\n",
    "PACE=500\n",
    "...\n",
    "\n",
    "PRINT ARG=d1.x,d1.y,mt.bias FILE=colvar STRIDE=500\n",
    "```\n",
    "\n",
    "notice that now we have two arguments, one per CV, two Sigmas, and two parameters per grid input parameter, since we now have a 2D grid"
   ]
  },
  {
   "cell_type": "markdown",
   "metadata": {
    "slideshow": {
     "slide_type": "fragment"
    }
   },
   "source": [
    "Run the calculation as you did for the 1D system, check all the important features (bias, heights, etc)\n",
    "\n",
    "Of course, now you have two CVs, and to check the amount of bias deposited as a function of CVs you need to use a scatter plot with colorbar."
   ]
  },
  {
   "cell_type": "markdown",
   "metadata": {
    "slideshow": {
     "slide_type": "fragment"
    }
   },
   "source": [
    "To recover the FES you need to explain to sum_hills that there is a 2D grid\n",
    "\n",
    "```bash\n",
    " plumed sum_hills --hills HILLS --kt 1.0 --negbias --bin 200,200 --mintozero\n",
    " ```"
   ]
  },
  {
   "cell_type": "markdown",
   "metadata": {
    "slideshow": {
     "slide_type": "fragment"
    }
   },
   "source": [
    "If you want to evaluate the $\\Delta G$ then you need to specify 2 extra boundaries per minimum, of course! You can do this with \n",
    "\n",
    "```bash\n",
    "python ../../scripts/calculate_fes_difference.py --prefix negativebias --mina -1.5 0.5 -1.5 -0.5 --minb 0.5 1.5 -0.5 1.5 --kt 1.0\n",
    "```"
   ]
  },
  {
   "cell_type": "markdown",
   "metadata": {
    "slideshow": {
     "slide_type": "subslide"
    }
   },
   "source": [
    "###  Can I recover  1D FES with sum_hills?"
   ]
  },
  {
   "cell_type": "markdown",
   "metadata": {
    "slideshow": {
     "slide_type": "fragment"
    }
   },
   "source": [
    "sure,  you can just integrate the extra dimension out\n",
    "```bash\n",
    " plumed sum_hills --hills HILLS --kt 1.0 --negbias --bin 200,200 --mintozero --idw d1.x\n",
    " ```\n",
    " \n",
    " And the result will be only the fes along the CV named d1.x\n",
    " \n",
    " Check if the mono dimensional CV converged, and check the 2D FES as well."
   ]
  },
  {
   "cell_type": "markdown",
   "metadata": {
    "slideshow": {
     "slide_type": "fragment"
    }
   },
   "source": [
    "It is worth saying that eventually, these calculations do converge, but they took a long time, because the evaluation of the FES is always off a bit.\n",
    "\n",
    "This example is just to introduce you to the fact that there is ALWAYS an orthogonal CV. But in most cases is (sort-of) innocuous.\n",
    "\n",
    "But they can be dangerous!"
   ]
  },
  {
   "cell_type": "markdown",
   "metadata": {
    "slideshow": {
     "slide_type": "slide"
    }
   },
   "source": [
    "###  And to finish the worst case scenario!"
   ]
  },
  {
   "cell_type": "markdown",
   "metadata": {
    "slideshow": {
     "slide_type": "fragment"
    }
   },
   "source": [
    "What is worst to have a neglected CV?\n",
    "To have a neglected CV with a twist!\n",
    "\n",
    "Try first the **zeta-potential-mono**.\n",
    "\n",
    "The idea beyond this case, is that you are convinced that your system can be described with 1 CVs and has 2 metastable states, just like the **mono-dimensional** case."
   ]
  },
  {
   "cell_type": "markdown",
   "metadata": {
    "slideshow": {
     "slide_type": "fragment"
    }
   },
   "source": [
    "Run the calculations, analyze the trajectory by checking the height, bias as a function of time and of $s$\n",
    "\n",
    "Calculate free energy differences, evaluate the FES and compare it with the one in the reference directoy which is *proj_y*\n",
    "\n",
    "What do you think?"
   ]
  },
  {
   "cell_type": "markdown",
   "metadata": {
    "slideshow": {
     "slide_type": "fragment"
    }
   },
   "source": [
    "Now try to run the **zeta-potential** and check what is the problem!"
   ]
  },
  {
   "cell_type": "markdown",
   "metadata": {
    "slideshow": {
     "slide_type": "fragment"
    }
   },
   "source": [
    "This is a case where CV can identifying the minima, but not ISOLATE THEM."
   ]
  },
  {
   "cell_type": "markdown",
   "metadata": {
    "slideshow": {
     "slide_type": "slide"
    }
   },
   "source": [
    "###  Can we obtain information on other CVs or degrees of freedom?\n",
    "\n",
    "It is possible to recover information on other CVs or degrees of freedom!\n",
    "We can evaluate what would be the weight of each configuration sampled in our Metadynamics calculations by reweigthing, so to recover the Boltzmann weight that the coonfiguation would have in an unbiased MD run."
   ]
  },
  {
   "cell_type": "markdown",
   "metadata": {
    "slideshow": {
     "slide_type": "fragment"
    }
   },
   "source": [
    "\\begin{equation}\n",
    "    \\hat{P}(\\br,t) = P(\\br)\\ e^{-\\beta [V(\\bs(\\br),t) - c(t)]}, \n",
    "\\end{equation}\n",
    "in which \n",
    "\\begin{equation}\n",
    " e^{-\\beta c(t)} = \\frac{\\int\\ d \\bs\\ P(\\bs)\\ e^{-\\beta V(\\bs,t)}}{\\int d \\bs\\ P(\\bs)},\n",
    "\\end{equation}\n",
    "\n",
    "the unbiased probability can thus be obtained, starting from the biased one using\n",
    "\\begin{equation}\n",
    "    \\hat{P}(\\br) = \\int_0^T \\ dt \\ e^{\\beta [V(\\bs,t) - c(t)]} \\delta(s-s(t)), \n",
    "\\end{equation}"
   ]
  },
  {
   "cell_type": "markdown",
   "metadata": {
    "slideshow": {
     "slide_type": "subslide"
    }
   },
   "source": [
    "We can evaluate the renormalization constant c(t) by using\n",
    "\n",
    "\\begin{equation}\n",
    "    e^{-\\beta c(t)} = \\frac{\\int_0^t dt'\\ e^{\\beta[V(\\bs(t'),t')-c(t')-V(\\bs(t'),t)]}}{\\int_0^t dt'\\ e^{\\beta [V(\\bs(t'),t')-c(t')]}}.\n",
    "\\label{eq:time_c_t}\n",
    "\\end{equation}\n",
    "\n",
    "A python module that implement this schema is available in cosmo-tools in python module named as ITRE\n",
    "https://github.com/cosmo-epfl/cosmo-tools.git\n",
    "\n",
    "Check the examples folder for more complex task. For now, we will reweight the 2D calculations that we have!"
   ]
  },
  {
   "cell_type": "markdown",
   "metadata": {
    "slideshow": {
     "slide_type": "fragment"
    }
   },
   "source": [
    "When you use ITRE there are a few things you need to know:\n",
    "1. You can use a stride in the calculation so that you do not need to calculate c(t) every time Usually 10--50 is ok \n",
    "2. You need the instantaneous potential, and is better to use directly the one used from PLUMED. HOWEVER the ITRE recalculated potential and the PLUMED potential should be the same! CHECK THAT!\n",
    "3. The weights that you calculate, and hence c(t), need to be aligned with your trajectory! so pay attention! They should start at the same time and have the same stride!\n",
    "4. PLUMED does not exactly print the HEIGHT of the gaussin when you do Well Tempered, but rather an estimate of the FES. So you need to correct it! Is easy you can just normalize the whole heights and then multiply for the heights you set at the beginning."
   ]
  },
  {
   "cell_type": "markdown",
   "metadata": {
    "slideshow": {
     "slide_type": "subslide"
    }
   },
   "source": [
    "Try to evaluate the FES in 2D using only 1 CV to bias in the  **reweight-** exercises in the exercises folder.\n",
    "\n",
    "\n",
    "\n",
    "The *generate_ct.py* file use ITRE to evaluate c(t)\n",
    "The *itre_reweight.py* file construct the reweighted FES and compare it with the analytic one.\n",
    "\n"
   ]
  },
  {
   "cell_type": "markdown",
   "metadata": {
    "slideshow": {
     "slide_type": "fragment"
    }
   },
   "source": [
    "As a matter of fact, the ITRE method is more precise in the evaluation of th FES than sum_hills and other reweigthing methods! \n",
    "\n",
    "The reason behind this is a little bit complex and buried in the thermodynamics approximation behind ITRE and sum_hillls and I decided to not discuss it yet!"
   ]
  },
  {
   "cell_type": "code",
   "execution_count": null,
   "metadata": {},
   "outputs": [],
   "source": []
  }
 ],
 "metadata": {
  "celltoolbar": "Slideshow",
  "kernelspec": {
   "display_name": "Python 3",
   "language": "python",
   "name": "python3"
  },
  "language_info": {
   "codemirror_mode": {
    "name": "ipython",
    "version": 3
   },
   "file_extension": ".py",
   "mimetype": "text/x-python",
   "name": "python",
   "nbconvert_exporter": "python",
   "pygments_lexer": "ipython3",
   "version": "3.6.9"
  }
 },
 "nbformat": 4,
 "nbformat_minor": 4
}
